{
 "cells": [
  {
   "cell_type": "code",
   "execution_count": null,
   "id": "67efc5ed-c23d-47b9-91c3-8155e779ddb6",
   "metadata": {},
   "outputs": [],
   "source": [
    "from datasets import load_dataset\n",
    "from datasets import get_dataset_config_names, get_dataset_config_info\n",
    "\n",
    "import pandas as pd"
   ]
  },
  {
   "cell_type": "code",
   "execution_count": null,
   "id": "d9c869ec-1fb7-459c-ae89-c2fad789b8d9",
   "metadata": {},
   "outputs": [],
   "source": []
  },
  {
   "cell_type": "code",
   "execution_count": null,
   "id": "763af545-cccb-4068-98f3-153e37243624",
   "metadata": {},
   "outputs": [],
   "source": []
  },
  {
   "cell_type": "code",
   "execution_count": null,
   "id": "18079d77-3126-4390-bb62-8fa5e17c84e8",
   "metadata": {},
   "outputs": [],
   "source": []
  },
  {
   "cell_type": "markdown",
   "id": "22f22766-0809-443b-befe-8ecbef56d79c",
   "metadata": {},
   "source": [
    "# Explore the Features of the dataset"
   ]
  },
  {
   "cell_type": "code",
   "execution_count": 9,
   "id": "f2d533b3-9af6-4e0b-9597-df1092ae3d5f",
   "metadata": {},
   "outputs": [
    {
     "data": {
      "text/plain": [
       "['comments-2020',\n",
       " 'comments-2021',\n",
       " 'comments-2022',\n",
       " 'comments-2023',\n",
       " 'submissions-2020-to-2023']"
      ]
     },
     "execution_count": 9,
     "metadata": {},
     "output_type": "execute_result"
    }
   ],
   "source": [
    "'''\n",
    "    >> Get all avalailable configs\n",
    "        * Configs are the set of folders in a way the dataset is organized into.\n",
    "'''\n",
    "all_configs = get_dataset_config_names(\"iDRAMALab/iDRAMA-scored-2024\")\n",
    "all_configs"
   ]
  },
  {
   "cell_type": "code",
   "execution_count": 30,
   "id": "fa9ebfa8-77f8-4ae8-a0db-7caf3bf1d89b",
   "metadata": {},
   "outputs": [
    {
     "data": {
      "text/plain": [
       "DatasetInfo(description='', citation='', homepage='', license='', features={'uuid': Value(dtype='string', id=None), 'score': Value(dtype='int64', id=None), 'created': Value(dtype='int64', id=None), 'score_up': Value(dtype='int64', id=None), 'community': Value(dtype='string', id=None), 'is_deleted': Value(dtype='bool', id=None), 'score_down': Value(dtype='int64', id=None), 'raw_content': Value(dtype='string', id=None), 'is_moderator': Value(dtype='bool', id=None), 'date': Value(dtype='string', id=None), 'author': Value(dtype='string', id=None), 'embedding': Sequence(feature=Value(dtype='float32', id=None), length=-1, id=None)}, post_processed=None, supervised_keys=None, task_templates=None, builder_name='parquet', dataset_name='i_drama-scored-2024', config_name='comments-2020', version=0.0.0, splits={'train': SplitInfo(name='train', num_bytes=31938791495, num_examples=12774203, shard_lengths=[200000, 191000, 193000, 191000, 191388, 197000, 198000, 196000, 204388, 201000, 200000, 202000, 201388, 199000, 196000, 196000, 195388, 197000, 199000, 198000, 197388, 197000, 198000, 198000, 198388, 200000, 201000, 200000, 199388, 197000, 199000, 201000, 204388, 200000, 200000, 198000, 200388, 199000, 201000, 203000, 197388, 209000, 207000, 201000, 196388, 199000, 202000, 200000, 198387, 202000, 200000, 202000, 204387, 202000, 204000, 203000, 209387, 209000, 209000, 208387, 207000, 208000, 210000, 147387], dataset_name='i_drama-scored-2024')}, download_checksums={'hf://datasets/iDRAMALab/iDRAMA-scored-2024@b29d86ea67cb1e1a12a2f17a00556404de3d8f9b/comments-2020/train-00000-of-00016.parquet': {'num_bytes': 2416293976, 'checksum': None}, 'hf://datasets/iDRAMALab/iDRAMA-scored-2024@b29d86ea67cb1e1a12a2f17a00556404de3d8f9b/comments-2020/train-00001-of-00016.parquet': {'num_bytes': 2391593923, 'checksum': None}, 'hf://datasets/iDRAMALab/iDRAMA-scored-2024@b29d86ea67cb1e1a12a2f17a00556404de3d8f9b/comments-2020/train-00002-of-00016.parquet': {'num_bytes': 2347171233, 'checksum': None}, 'hf://datasets/iDRAMALab/iDRAMA-scored-2024@b29d86ea67cb1e1a12a2f17a00556404de3d8f9b/comments-2020/train-00003-of-00016.parquet': {'num_bytes': 2380419466, 'checksum': None}, 'hf://datasets/iDRAMALab/iDRAMA-scored-2024@b29d86ea67cb1e1a12a2f17a00556404de3d8f9b/comments-2020/train-00004-of-00016.parquet': {'num_bytes': 2387526405, 'checksum': None}, 'hf://datasets/iDRAMALab/iDRAMA-scored-2024@b29d86ea67cb1e1a12a2f17a00556404de3d8f9b/comments-2020/train-00005-of-00016.parquet': {'num_bytes': 2381031088, 'checksum': None}, 'hf://datasets/iDRAMALab/iDRAMA-scored-2024@b29d86ea67cb1e1a12a2f17a00556404de3d8f9b/comments-2020/train-00006-of-00016.parquet': {'num_bytes': 2363185020, 'checksum': None}, 'hf://datasets/iDRAMALab/iDRAMA-scored-2024@b29d86ea67cb1e1a12a2f17a00556404de3d8f9b/comments-2020/train-00007-of-00016.parquet': {'num_bytes': 2369129192, 'checksum': None}, 'hf://datasets/iDRAMALab/iDRAMA-scored-2024@b29d86ea67cb1e1a12a2f17a00556404de3d8f9b/comments-2020/train-00008-of-00016.parquet': {'num_bytes': 2357302342, 'checksum': None}, 'hf://datasets/iDRAMALab/iDRAMA-scored-2024@b29d86ea67cb1e1a12a2f17a00556404de3d8f9b/comments-2020/train-00009-of-00016.parquet': {'num_bytes': 2356129576, 'checksum': None}, 'hf://datasets/iDRAMALab/iDRAMA-scored-2024@b29d86ea67cb1e1a12a2f17a00556404de3d8f9b/comments-2020/train-00010-of-00016.parquet': {'num_bytes': 2332456447, 'checksum': None}, 'hf://datasets/iDRAMALab/iDRAMA-scored-2024@b29d86ea67cb1e1a12a2f17a00556404de3d8f9b/comments-2020/train-00011-of-00016.parquet': {'num_bytes': 2369883604, 'checksum': None}, 'hf://datasets/iDRAMALab/iDRAMA-scored-2024@b29d86ea67cb1e1a12a2f17a00556404de3d8f9b/comments-2020/train-00012-of-00016.parquet': {'num_bytes': 2354056183, 'checksum': None}, 'hf://datasets/iDRAMALab/iDRAMA-scored-2024@b29d86ea67cb1e1a12a2f17a00556404de3d8f9b/comments-2020/train-00013-of-00016.parquet': {'num_bytes': 2331803144, 'checksum': None}, 'hf://datasets/iDRAMALab/iDRAMA-scored-2024@b29d86ea67cb1e1a12a2f17a00556404de3d8f9b/comments-2020/train-00014-of-00016.parquet': {'num_bytes': 2278683099, 'checksum': None}, 'hf://datasets/iDRAMALab/iDRAMA-scored-2024@b29d86ea67cb1e1a12a2f17a00556404de3d8f9b/comments-2020/train-00015-of-00016.parquet': {'num_bytes': 2287524823, 'checksum': None}}, download_size=37704189521, post_processing_size=None, dataset_size=31938791495, size_in_bytes=69642981016)"
      ]
     },
     "execution_count": 30,
     "metadata": {},
     "output_type": "execute_result"
    }
   ],
   "source": [
    "'''\n",
    "    >> Get information about a specific config\n",
    "        * Config info allows to explore the dataset, e.g., features of dataset, columns, size, number of data-points.\n",
    "'''\n",
    "config_info = get_dataset_config_info(\"iDRAMALab/iDRAMA-scored-2024\", config_name=\"comments-2020\")\n",
    "config_info"
   ]
  },
  {
   "cell_type": "code",
   "execution_count": 31,
   "id": "d7a848de-2c23-4a50-ac4a-7f1f741c4200",
   "metadata": {},
   "outputs": [
    {
     "data": {
      "text/plain": [
       "dict_keys(['uuid', 'score', 'created', 'score_up', 'community', 'is_deleted', 'score_down', 'raw_content', 'is_moderator', 'date', 'author', 'embedding'])"
      ]
     },
     "execution_count": 31,
     "metadata": {},
     "output_type": "execute_result"
    }
   ],
   "source": [
    "config_info.features.keys()"
   ]
  },
  {
   "cell_type": "code",
   "execution_count": null,
   "id": "3f043bac-3535-4ebb-a73e-9329513f77b0",
   "metadata": {},
   "outputs": [],
   "source": [
    "\n",
    "\n"
   ]
  },
  {
   "cell_type": "markdown",
   "id": "2411d61d-bf0b-43d9-a876-f0b01d8aa9fc",
   "metadata": {},
   "source": [
    "# Load Dataset through Huggingface APIs\n",
    "* HF dataset documentation: [Load from HF-Hub](https://huggingface.co/docs/datasets/en/load_hub)"
   ]
  },
  {
   "cell_type": "code",
   "execution_count": 11,
   "id": "f84a1fe5-7ab4-4119-835a-ac8a187b10f5",
   "metadata": {},
   "outputs": [
    {
     "data": {
      "application/vnd.jupyter.widget-view+json": {
       "model_id": "554b3fb3b4cc4d4fab061e9a4bb1777f",
       "version_major": 2,
       "version_minor": 0
      },
      "text/plain": [
       "Downloading data:   0%|          | 0/16 [00:00<?, ?files/s]"
      ]
     },
     "metadata": {},
     "output_type": "display_data"
    },
    {
     "data": {
      "application/vnd.jupyter.widget-view+json": {
       "model_id": "a221ec1877ec410ea311f97ad68321a5",
       "version_major": 2,
       "version_minor": 0
      },
      "text/plain": [
       "Generating train split:   0%|          | 0/12774203 [00:00<?, ? examples/s]"
      ]
     },
     "metadata": {},
     "output_type": "display_data"
    },
    {
     "data": {
      "application/vnd.jupyter.widget-view+json": {
       "model_id": "d27dd9a2b10a4908abeeb1bb062679cf",
       "version_major": 2,
       "version_minor": 0
      },
      "text/plain": [
       "Loading dataset shards:   0%|          | 0/64 [00:00<?, ?it/s]"
      ]
     },
     "metadata": {},
     "output_type": "display_data"
    }
   ],
   "source": [
    "# Download & Load complete dataset\n",
    "# dataset = load_dataset(\"iDRAMALab/iDRAMA-scored-2024\")\n",
    "\n",
    "# Load dataset with specific config\n",
    "dataset = load_dataset(\"iDRAMALab/iDRAMA-scored-2024\", name=\"comments-2020\")"
   ]
  },
  {
   "cell_type": "code",
   "execution_count": 12,
   "id": "f9f3283c-4b49-4018-9d61-be80244a2622",
   "metadata": {},
   "outputs": [
    {
     "data": {
      "text/html": [
       "<div>\n",
       "<style scoped>\n",
       "    .dataframe tbody tr th:only-of-type {\n",
       "        vertical-align: middle;\n",
       "    }\n",
       "\n",
       "    .dataframe tbody tr th {\n",
       "        vertical-align: top;\n",
       "    }\n",
       "\n",
       "    .dataframe thead th {\n",
       "        text-align: right;\n",
       "    }\n",
       "</style>\n",
       "<table border=\"1\" class=\"dataframe\">\n",
       "  <thead>\n",
       "    <tr style=\"text-align: right;\">\n",
       "      <th></th>\n",
       "      <th>uuid</th>\n",
       "      <th>score</th>\n",
       "      <th>created</th>\n",
       "      <th>score_up</th>\n",
       "      <th>community</th>\n",
       "      <th>is_deleted</th>\n",
       "      <th>score_down</th>\n",
       "      <th>raw_content</th>\n",
       "      <th>is_moderator</th>\n",
       "      <th>date</th>\n",
       "      <th>author</th>\n",
       "      <th>embedding</th>\n",
       "    </tr>\n",
       "  </thead>\n",
       "  <tbody>\n",
       "    <tr>\n",
       "      <th>0</th>\n",
       "      <td>FMlZuZ8b</td>\n",
       "      <td>2</td>\n",
       "      <td>1577836858453</td>\n",
       "      <td>2</td>\n",
       "      <td>TheDonald</td>\n",
       "      <td>False</td>\n",
       "      <td>0</td>\n",
       "      <td>Queue the, \"...And he's a terrorist.\", meme.</td>\n",
       "      <td>False</td>\n",
       "      <td>2020-01-01</td>\n",
       "      <td>6201a88cb31263f1ad073d11a161d28d</td>\n",
       "      <td>[-0.011283473, -0.008606288, -0.039070208, 0.0...</td>\n",
       "    </tr>\n",
       "    <tr>\n",
       "      <th>1</th>\n",
       "      <td>FMlZuZ8c</td>\n",
       "      <td>2</td>\n",
       "      <td>1577836894284</td>\n",
       "      <td>2</td>\n",
       "      <td>TheDonald</td>\n",
       "      <td>False</td>\n",
       "      <td>0</td>\n",
       "      <td>Most of the commenters there are not Americans...</td>\n",
       "      <td>False</td>\n",
       "      <td>2020-01-01</td>\n",
       "      <td>4d685104b75832a93d380a7682e49434</td>\n",
       "      <td>[-0.024856854, -0.008211391, -0.028705617, 0.0...</td>\n",
       "    </tr>\n",
       "    <tr>\n",
       "      <th>2</th>\n",
       "      <td>FMlZuZ8d</td>\n",
       "      <td>9</td>\n",
       "      <td>1577836900803</td>\n",
       "      <td>9</td>\n",
       "      <td>TheDonald</td>\n",
       "      <td>False</td>\n",
       "      <td>0</td>\n",
       "      <td>The fact that users felt like they didn't know...</td>\n",
       "      <td>False</td>\n",
       "      <td>2020-01-01</td>\n",
       "      <td>a0be10e61102803d94757de6247a8a44</td>\n",
       "      <td>[-0.06430399, -0.030431006, -0.02697326, 0.000...</td>\n",
       "    </tr>\n",
       "    <tr>\n",
       "      <th>3</th>\n",
       "      <td>FMlZuZ8e</td>\n",
       "      <td>15</td>\n",
       "      <td>1577836907939</td>\n",
       "      <td>15</td>\n",
       "      <td>TheDonald</td>\n",
       "      <td>False</td>\n",
       "      <td>0</td>\n",
       "      <td>Time's up. Deferred means just that.</td>\n",
       "      <td>False</td>\n",
       "      <td>2020-01-01</td>\n",
       "      <td>fe2df53932c26e4fb38e76c5e12c54b2</td>\n",
       "      <td>[-0.0023614091, -0.03463356, -0.04153254, -0.0...</td>\n",
       "    </tr>\n",
       "    <tr>\n",
       "      <th>4</th>\n",
       "      <td>FMlZuZ8f</td>\n",
       "      <td>1</td>\n",
       "      <td>1577836958731</td>\n",
       "      <td>1</td>\n",
       "      <td>TheDonald</td>\n",
       "      <td>True</td>\n",
       "      <td>0</td>\n",
       "      <td></td>\n",
       "      <td>False</td>\n",
       "      <td>2020-01-01</td>\n",
       "      <td></td>\n",
       "      <td>None</td>\n",
       "    </tr>\n",
       "    <tr>\n",
       "      <th>...</th>\n",
       "      <td>...</td>\n",
       "      <td>...</td>\n",
       "      <td>...</td>\n",
       "      <td>...</td>\n",
       "      <td>...</td>\n",
       "      <td>...</td>\n",
       "      <td>...</td>\n",
       "      <td>...</td>\n",
       "      <td>...</td>\n",
       "      <td>...</td>\n",
       "      <td>...</td>\n",
       "      <td>...</td>\n",
       "    </tr>\n",
       "    <tr>\n",
       "      <th>12774198</th>\n",
       "      <td>4Drwos6fl2X</td>\n",
       "      <td>1</td>\n",
       "      <td>1609459191157</td>\n",
       "      <td>1</td>\n",
       "      <td>TheDonald</td>\n",
       "      <td>False</td>\n",
       "      <td>0</td>\n",
       "      <td>Traitors, traitors everywhere</td>\n",
       "      <td>False</td>\n",
       "      <td>2020-12-31</td>\n",
       "      <td>9f9f398733b92d29c12b66424c1ab7a5</td>\n",
       "      <td>[-0.044996005, -0.03565693, -0.025443707, 0.02...</td>\n",
       "    </tr>\n",
       "    <tr>\n",
       "      <th>12774199</th>\n",
       "      <td>4Drwos6fl2Y</td>\n",
       "      <td>3</td>\n",
       "      <td>1609459192443</td>\n",
       "      <td>3</td>\n",
       "      <td>TheDonald</td>\n",
       "      <td>False</td>\n",
       "      <td>0</td>\n",
       "      <td>I've seen that it's okay that he did that (you...</td>\n",
       "      <td>False</td>\n",
       "      <td>2020-12-31</td>\n",
       "      <td>f83775d14e08c39e611dcb74ef3e6577</td>\n",
       "      <td>[-0.022224393, 0.0008413438, -0.011335765, 0.0...</td>\n",
       "    </tr>\n",
       "    <tr>\n",
       "      <th>12774200</th>\n",
       "      <td>4Drwos6fl2Z</td>\n",
       "      <td>1</td>\n",
       "      <td>1609459197195</td>\n",
       "      <td>2</td>\n",
       "      <td>TheDonald</td>\n",
       "      <td>False</td>\n",
       "      <td>1</td>\n",
       "      <td>100% divorce only by abuse and or proven adult...</td>\n",
       "      <td>False</td>\n",
       "      <td>2020-12-31</td>\n",
       "      <td>f7a65e082ff19112af0ce39b1da24929</td>\n",
       "      <td>[0.019342886, -0.021640928, 0.006174896, 0.037...</td>\n",
       "    </tr>\n",
       "    <tr>\n",
       "      <th>12774201</th>\n",
       "      <td>4Drwos6fl2a</td>\n",
       "      <td>1</td>\n",
       "      <td>1609459198394</td>\n",
       "      <td>1</td>\n",
       "      <td>TheDonald</td>\n",
       "      <td>True</td>\n",
       "      <td>0</td>\n",
       "      <td></td>\n",
       "      <td>False</td>\n",
       "      <td>2020-12-31</td>\n",
       "      <td></td>\n",
       "      <td>None</td>\n",
       "    </tr>\n",
       "    <tr>\n",
       "      <th>12774202</th>\n",
       "      <td>4Drwos6fl2b</td>\n",
       "      <td>1</td>\n",
       "      <td>1609459198596</td>\n",
       "      <td>1</td>\n",
       "      <td>TheDonald</td>\n",
       "      <td>False</td>\n",
       "      <td>0</td>\n",
       "      <td>They are the plucked chicken.\\r\\nAs long as th...</td>\n",
       "      <td>False</td>\n",
       "      <td>2020-12-31</td>\n",
       "      <td>b15857b8198d2e3fc6d353f0a214e170</td>\n",
       "      <td>[-0.04796383, -0.025298199, -0.040683445, 0.01...</td>\n",
       "    </tr>\n",
       "  </tbody>\n",
       "</table>\n",
       "<p>12774203 rows × 12 columns</p>\n",
       "</div>"
      ],
      "text/plain": [
       "                 uuid  score        created  score_up  community  is_deleted  \\\n",
       "0            FMlZuZ8b      2  1577836858453         2  TheDonald       False   \n",
       "1            FMlZuZ8c      2  1577836894284         2  TheDonald       False   \n",
       "2            FMlZuZ8d      9  1577836900803         9  TheDonald       False   \n",
       "3            FMlZuZ8e     15  1577836907939        15  TheDonald       False   \n",
       "4            FMlZuZ8f      1  1577836958731         1  TheDonald        True   \n",
       "...               ...    ...            ...       ...        ...         ...   \n",
       "12774198  4Drwos6fl2X      1  1609459191157         1  TheDonald       False   \n",
       "12774199  4Drwos6fl2Y      3  1609459192443         3  TheDonald       False   \n",
       "12774200  4Drwos6fl2Z      1  1609459197195         2  TheDonald       False   \n",
       "12774201  4Drwos6fl2a      1  1609459198394         1  TheDonald        True   \n",
       "12774202  4Drwos6fl2b      1  1609459198596         1  TheDonald       False   \n",
       "\n",
       "          score_down                                        raw_content  \\\n",
       "0                  0       Queue the, \"...And he's a terrorist.\", meme.   \n",
       "1                  0  Most of the commenters there are not Americans...   \n",
       "2                  0  The fact that users felt like they didn't know...   \n",
       "3                  0              Time's up. Deferred means just that.    \n",
       "4                  0                                                      \n",
       "...              ...                                                ...   \n",
       "12774198           0                     Traitors, traitors everywhere    \n",
       "12774199           0  I've seen that it's okay that he did that (you...   \n",
       "12774200           1  100% divorce only by abuse and or proven adult...   \n",
       "12774201           0                                                      \n",
       "12774202           0  They are the plucked chicken.\\r\\nAs long as th...   \n",
       "\n",
       "          is_moderator        date                            author  \\\n",
       "0                False  2020-01-01  6201a88cb31263f1ad073d11a161d28d   \n",
       "1                False  2020-01-01  4d685104b75832a93d380a7682e49434   \n",
       "2                False  2020-01-01  a0be10e61102803d94757de6247a8a44   \n",
       "3                False  2020-01-01  fe2df53932c26e4fb38e76c5e12c54b2   \n",
       "4                False  2020-01-01                                     \n",
       "...                ...         ...                               ...   \n",
       "12774198         False  2020-12-31  9f9f398733b92d29c12b66424c1ab7a5   \n",
       "12774199         False  2020-12-31  f83775d14e08c39e611dcb74ef3e6577   \n",
       "12774200         False  2020-12-31  f7a65e082ff19112af0ce39b1da24929   \n",
       "12774201         False  2020-12-31                                     \n",
       "12774202         False  2020-12-31  b15857b8198d2e3fc6d353f0a214e170   \n",
       "\n",
       "                                                  embedding  \n",
       "0         [-0.011283473, -0.008606288, -0.039070208, 0.0...  \n",
       "1         [-0.024856854, -0.008211391, -0.028705617, 0.0...  \n",
       "2         [-0.06430399, -0.030431006, -0.02697326, 0.000...  \n",
       "3         [-0.0023614091, -0.03463356, -0.04153254, -0.0...  \n",
       "4                                                      None  \n",
       "...                                                     ...  \n",
       "12774198  [-0.044996005, -0.03565693, -0.025443707, 0.02...  \n",
       "12774199  [-0.022224393, 0.0008413438, -0.011335765, 0.0...  \n",
       "12774200  [0.019342886, -0.021640928, 0.006174896, 0.037...  \n",
       "12774201                                               None  \n",
       "12774202  [-0.04796383, -0.025298199, -0.040683445, 0.01...  \n",
       "\n",
       "[12774203 rows x 12 columns]"
      ]
     },
     "execution_count": 12,
     "metadata": {},
     "output_type": "execute_result"
    }
   ],
   "source": [
    "# Convert dataset to pandas df\n",
    "pd_df = dataset[\"train\"].to_pandas()\n",
    "pd_df"
   ]
  },
  {
   "cell_type": "code",
   "execution_count": null,
   "id": "37cbdc57-63a2-47bf-bb55-9cb4772234cd",
   "metadata": {},
   "outputs": [],
   "source": []
  },
  {
   "cell_type": "code",
   "execution_count": null,
   "id": "fdc78dcf-0744-4acc-a838-007b466c0b5f",
   "metadata": {},
   "outputs": [],
   "source": []
  },
  {
   "cell_type": "markdown",
   "id": "604b9aef-76d4-41fa-8699-12162dd38d3b",
   "metadata": {},
   "source": [
    "## Stream the Dataset\n",
    "\n",
    "* HF dataset streaming: [Stream from HF-Hub](https://huggingface.co/docs/datasets/en/stream)"
   ]
  },
  {
   "cell_type": "code",
   "execution_count": 13,
   "id": "ca04db24-171f-436e-9673-45773d2ffe99",
   "metadata": {},
   "outputs": [],
   "source": [
    "# Stream dataset as iterator \n",
    "dataset = load_dataset(\"iDRAMALab/iDRAMA-scored-2024\", name=\"comments-2020\", streaming=True)"
   ]
  },
  {
   "cell_type": "code",
   "execution_count": null,
   "id": "60abd362-2009-4b2e-8eaa-d9fd34dc78ec",
   "metadata": {},
   "outputs": [],
   "source": [
    "# Iterator to iter over dataset samples\n",
    "for row in dataset[\"train\"]:\n",
    "    print(row)\n",
    "    break"
   ]
  },
  {
   "cell_type": "code",
   "execution_count": null,
   "id": "e37395b7-c6d1-4c00-8347-fc46c34fb680",
   "metadata": {},
   "outputs": [],
   "source": []
  },
  {
   "cell_type": "markdown",
   "id": "e1f747b9-6c85-471f-97ba-434650ca5cdf",
   "metadata": {},
   "source": [
    "#### Stream with selected columns\n",
    "\n",
    "* When you stream the dataset, you can select columns to build your dataset."
   ]
  },
  {
   "cell_type": "code",
   "execution_count": 3,
   "id": "83456c01-b131-480c-a3f0-d5813cd075ae",
   "metadata": {},
   "outputs": [
    {
     "data": {
      "application/vnd.jupyter.widget-view+json": {
       "model_id": "8f84124adb0348c5aa33bcb7ad1d9b93",
       "version_major": 2,
       "version_minor": 0
      },
      "text/plain": [
       "Downloading readme:   0%|          | 0.00/11.8k [00:00<?, ?B/s]"
      ]
     },
     "metadata": {},
     "output_type": "display_data"
    },
    {
     "data": {
      "application/vnd.jupyter.widget-view+json": {
       "model_id": "d240eb1059ed43cebf838ab50fdf940d",
       "version_major": 2,
       "version_minor": 0
      },
      "text/plain": [
       "Resolving data files:   0%|          | 0/21 [00:00<?, ?it/s]"
      ]
     },
     "metadata": {},
     "output_type": "display_data"
    },
    {
     "name": "stdout",
     "output_type": "stream",
     "text": [
      "{'uuid': '4Drwos6fl2c', 'raw_content': 'MUST decertify Biden electors and Certify Trump electors', 'embedding': None}\n"
     ]
    }
   ],
   "source": [
    "# Stream dataset as iterator \n",
    "dataset = load_dataset(\"iDRAMALab/iDRAMA-scored-2024\", \n",
    "                       name=\"comments-2021\", \n",
    "                       columns=[\"uuid\", \"raw_content\", \"embedding\"], # Only get the posts\n",
    "                       streaming=True)\n",
    "\n",
    "# Simply, iterate over the streamed points\n",
    "for val in dataset[\"train\"]:\n",
    "    print(val)\n",
    "    break\n",
    "    \n",
    "# Complete dataset for only selected columns\n",
    "# pd_df = pd.DataFrame([val for val in dataset[\"train\"]])\n",
    "# pd_df"
   ]
  },
  {
   "cell_type": "code",
   "execution_count": null,
   "id": "c431334b-6f29-46f6-92e2-d3d76ff23adb",
   "metadata": {},
   "outputs": [],
   "source": []
  },
  {
   "cell_type": "code",
   "execution_count": null,
   "id": "d905b750-3874-40dd-b068-29cd5a27a12c",
   "metadata": {},
   "outputs": [],
   "source": []
  },
  {
   "cell_type": "markdown",
   "id": "5ff1e2b2-fe8e-49c0-866d-7efb10e8cbb6",
   "metadata": {},
   "source": [
    "# Save the data in local instead to HF-dataset format\n",
    "    * We recommend to save the data in standard formats like CSV or JSON instead pickle objects.\n",
    "    * However, as the dataset is large, compressed `parquet` format is recommended."
   ]
  },
  {
   "cell_type": "code",
   "execution_count": null,
   "id": "51762a99-0852-4364-b338-69f7b2add1bc",
   "metadata": {},
   "outputs": [],
   "source": [
    "'''\n",
    "Assuming, you have loaded dataset and casted to pandas -- `pd_df`\n",
    "'''\n",
    "# Save as standard serialized format\n",
    "pd_df.to_json(\"filename.ndjson\", orient=\"records\", lines=True)\n",
    "\n",
    "# Save as compressed parquet\n",
    "pd_df.to_parquet(\"filename.parquet\", compression=\"zstd\")"
   ]
  },
  {
   "cell_type": "code",
   "execution_count": null,
   "id": "d3c9e080-b044-452e-9e74-b16a5797f37d",
   "metadata": {},
   "outputs": [],
   "source": []
  }
 ],
 "metadata": {
  "kernelspec": {
   "display_name": "Python 3 (ipykernel)",
   "language": "python",
   "name": "python3"
  },
  "language_info": {
   "codemirror_mode": {
    "name": "ipython",
    "version": 3
   },
   "file_extension": ".py",
   "mimetype": "text/x-python",
   "name": "python",
   "nbconvert_exporter": "python",
   "pygments_lexer": "ipython3",
   "version": "3.9.10"
  }
 },
 "nbformat": 4,
 "nbformat_minor": 5
}
